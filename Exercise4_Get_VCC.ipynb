{
 "cells": [
  {
   "cell_type": "markdown",
   "metadata": {},
   "source": [
    "# Excerise 4"
   ]
  },
  {
   "cell_type": "code",
   "execution_count": 1,
   "metadata": {},
   "outputs": [],
   "source": [
    "import numpy as np\n",
    "import pandas as pd\n",
    "import os\n",
    "import ast\n",
    "import git\n",
    "from git import RemoteProgress\n",
    "from git import Repo\n",
    "from datetime import datetime, date\n",
    "import matplotlib.pyplot as plt\n",
    "import seaborn as sns\n",
    "from time import strptime\n",
    "%matplotlib inline"
   ]
  },
  {
   "cell_type": "code",
   "execution_count": 2,
   "metadata": {},
   "outputs": [],
   "source": [
    "class Progress(RemoteProgress):\n",
    "    def update(self, op_code, cur_count, max_count=None, message=''):\n",
    "        print(self._cur_line)"
   ]
  },
  {
   "cell_type": "markdown",
   "metadata": {},
   "source": [
    "# Git Repo"
   ]
  },
  {
   "cell_type": "code",
   "execution_count": 3,
   "metadata": {},
   "outputs": [],
   "source": [
    "#1\n",
    "#remote_link = \"https://github.com/apache/struts\"\n",
    "#local_link = \"/home/amruta/Downloads/struts\"\n",
    "#repo = Repo(local_link)\n",
    "#fixing_commit = \"3fddfb6eb562d597c935084e9e81d43ed6bcd02\"\n",
    "#affected_files =[\"xwork-core/src/main/java/com/opensymphony/xwork2/validator/validators/URLValidator.java\"]\n",
    "\n",
    "#2\n",
    "#remote_link = \"https://github.com/cloudfoundry/uaa\"\n",
    "#local_link = \"/home/amruta/Downloads/uaa\"\n",
    "#repo = Repo(local_link)\n",
    "#fixing_commit = \"7db5e5846961e08295b1ef7af909f267eebe5da\"\n",
    "#affected_files =[\"common/src/test/java/org/cloudfoundry/identity/uaa/zone/event/IdentityProviderModifiedEventTest.java\"]\n",
    "#affected_files =[\"common/src/test/java/org/cloudfoundry/identity/uaa/zone/event/IdentityZoneModifiedEventTest.java\"]\n",
    "\n",
    "#3\n",
    "#remote_link = \"https://github.com/apache/tomcat80\"\n",
    "#local_link = \"/home/amruta/Downloads/tomcat80\"\n",
    "#repo = Repo(local_link)\n",
    "#fixing_commit = \"d752a415a875e888d8c8d0988dfbde95c2c6fb1d\"\n",
    "#vcc_commit=d8b8d4e8496cc8fc5b13833558bec61bdbda6ad1\n",
    "#affected_files =[\"java/org/apache/tomcat/util/http/fileupload/MultipartStream.java\"]\n",
    "#affected_files =[\"webapps/docs/changelog.xml\"]\n",
    "\n",
    "#4\n",
    "#remote_link = \"https://github.com/spring-projects/spring-webflow\"\n",
    "#local_link = \"/home/amruta/Downloads/spring-webflow\"\n",
    "#repo = Repo(local_link)\n",
    "#fixing_commit = \"57f2ccb66946943fbf3b3f2165eac1c8eb6b1523\"\n",
    "#affected_files = [\"spring-webflow/src/main/java/org/springframework/webflow/mvc/view/AbstractMvcView.java\"]\n",
    "\n",
    "#5\n",
    "#remote_link = \"https://github.com/pingidentity/ldapsdk\"\n",
    "#local_link = \"/home/amruta/Downloads/ldapsdk\"\n",
    "#repo = Repo(local_link)\n",
    "#fixing_commit = \"8471904a02438c03965d21367890276bc25fa5a6\"\n",
    "#affected_files =[\"docs/release-notes.html\"]\n",
    "#affected_files =[\"src/com/unboundid/ldap/sdk/SimpleBindRequest.java\"]\n",
    "#affected_files =[\"tests/unit/src/com/unboundid/ldap/sdk/SimpleBindRequestTestCase.java\"]\n",
    "\n",
    "#6\n",
    "remote_link = \"https://github.com/jenkinsci/jenkins\"\n",
    "local_link = \"/home/amruta/Downloads/jenkins\"\n",
    "repo = Repo(local_link)\n",
    "fixing_commit = \"d7ea3f40efedd50541a57b943d5f7bbed046d091\"\n",
    "#affected_files = [\"core/src/main/java/hudson/slaves/CommandConnector.java\"]\n",
    "#affected_files = [\"core/src/main/java/hudson/slaves/CommandLauncher.java\"]\n",
    "#affected_files = [\"core/src/main/resources/hudson/slaves/Messages.properties\"]\n",
    "#affected_files = [\"test/src/test/java/hudson/model/ProjectTest.java\"]\n",
    "affected_files = [\"test/src/test/java/hudson/slaves/CommandLauncher2Test.java\"]\n"
   ]
  },
  {
   "cell_type": "markdown",
   "metadata": {},
   "source": [
    "# Function findStartEnd"
   ]
  },
  {
   "cell_type": "code",
   "execution_count": 4,
   "metadata": {},
   "outputs": [],
   "source": [
    "def StartEnd(file, line_affected):\n",
    "    start = -1\n",
    "    end = -1\n",
    "    current_line = 1\n",
    "    for line in file:\n",
    "        if current_line == line_affected:\n",
    "            i = current_line\n",
    "            found = False\n",
    "            while not found:\n",
    "                i = i - 1\n",
    "                if i == -1:\n",
    "                    break\n",
    "                if \"{\" in file[i - 1]:\n",
    "                    found = True\n",
    "                    start = i\n",
    "                    break;\n",
    "            found = False\n",
    "            i = current_line\n",
    "            while not found:\n",
    "                i = i + 1\n",
    "                if i >= (len(file) - 1):\n",
    "                    break\n",
    "                if \"}\" in file[i - 1]:\n",
    "                    found = True\n",
    "                    end = i\n",
    "                    break   \n",
    "        current_line = current_line + 1\n",
    "    return start, end   "
   ]
  },
  {
   "cell_type": "markdown",
   "metadata": {},
   "source": [
    "# Function makeList"
   ]
  },
  {
   "cell_type": "code",
   "execution_count": 5,
   "metadata": {},
   "outputs": [],
   "source": [
    "def makeList(input_list, value):\n",
    "    found = False\n",
    "    for item in input_list:\n",
    "        if item[\"commit\"] == value:\n",
    "            item[\"count\"] = item[\"count\"] + 1\n",
    "            found = True\n",
    "    if not found:\n",
    "        input_list.append({\"commit\": value, \"count\": 1})\n",
    "    return input_list"
   ]
  },
  {
   "cell_type": "markdown",
   "metadata": {},
   "source": [
    "# Function findAddDelete"
   ]
  },
  {
   "cell_type": "code",
   "execution_count": 6,
   "metadata": {},
   "outputs": [],
   "source": [
    "def AddDelete(line):\n",
    "    if line[0] == \"@@\":\n",
    "        delete = line[1]\n",
    "        delete = delete[1:]\n",
    "        delete = delete.split(\",\")\n",
    "        if len(delete) < 2:\n",
    "            delete.append(\"1\")\n",
    "        \n",
    "        add = line[2]\n",
    "        add = add[1:]\n",
    "        add = add.split(\",\")\n",
    "        if len(add) < 2:\n",
    "            add.append(\"1\")\n",
    "                \n",
    "        return add, delete"
   ]
  },
  {
   "cell_type": "markdown",
   "metadata": {},
   "source": [
    "# Function findCommon"
   ]
  },
  {
   "cell_type": "code",
   "execution_count": 7,
   "metadata": {},
   "outputs": [],
   "source": [
    "def Common(commits_found, exclude):\n",
    "    maximum = -1\n",
    "    commit_found = None\n",
    "    for commit in commits_found:\n",
    "        if exclude in commit[\"commit\"]:\n",
    "            continue\n",
    "        if commit[\"count\"] > maximum:\n",
    "            commit_found = commit[\"commit\"]\n",
    "            maximum = commit[\"count\"]\n",
    "            \n",
    "    return commit_found, maximum"
   ]
  },
  {
   "cell_type": "markdown",
   "metadata": {},
   "source": [
    "# Function getVCC"
   ]
  },
  {
   "cell_type": "code",
   "execution_count": 8,
   "metadata": {
    "scrolled": false
   },
   "outputs": [],
   "source": [
    "def getVCC(files, parameters):\n",
    "    for file in files:\n",
    "        diff_of_file = repo.git.diff(fixing_commit + \"^\" + \"..\" + fixing_commit, \"-U0\", \"--\", file).splitlines()\n",
    "        diff_of_file = diff_of_file[4:]\n",
    "        raw_commit_file = repo.git.show(fixing_commit + \":\" + file).splitlines()\n",
    "        commits_found = []\n",
    "        i = 0\n",
    "        while i < len(diff_of_file):\n",
    "            split_line = diff_of_file[i].split()\n",
    "            if split_line[0] == \"@@\":\n",
    "                additions, deletions = AddDelete(split_line)\n",
    "                if deletions[1] != 0:\n",
    "                    j = 0\n",
    "                    line_number = int(deletions[0])\n",
    "                    while j < int(deletions[1]):\n",
    "                        j = j + 1\n",
    "                        affected_file_diff = repo.git.blame(parameters,\"-l\", \"-L\" + str(line_number) + \",\" + str(line_number), fixing_commit, \"--\", file).splitlines()\n",
    "                        split_line = affected_file_diff[0].split()\n",
    "                        makeList(commits_found, split_line[0])\n",
    "                    i = i + j\n",
    "                if additions[1] != 0:\n",
    "                    j = 0\n",
    "                    line_number = int(additions[0])\n",
    "                    while j < int(additions[1]):\n",
    "                        j = j + 1\n",
    "                        start, end = StartEnd(raw_commit_file, j + line_number)                         \n",
    "                        if start != -1 and end != -1:\n",
    "                            affected_file_diff = repo.git.blame(parameters,\"-l\", \"-L\" + str(start) + \",\" + str(end), fixing_commit, \"--\", file).splitlines()                         \n",
    "                        else:\n",
    "                            affected_file_diff = repo.git.blame(parameters,\"-l\", \"-L\" + str(line_number) + \",\" + str(line_number), fixing_commit, \"--\", file).splitlines()             \n",
    "                        for line in affected_file_diff:\n",
    "                                split_line = line.split()\n",
    "                                makeList(commits_found, split_line[0])\n",
    "                        line_number = line_number + 1\n",
    "                    i = i + j                \n",
    "            i = i + 1\n",
    "    return Common(commits_found, fixing_commit)"
   ]
  },
  {
   "cell_type": "markdown",
   "metadata": {},
   "source": [
    "## Get VCC ID"
   ]
  },
  {
   "cell_type": "code",
   "execution_count": 9,
   "metadata": {},
   "outputs": [
    {
     "name": "stdout",
     "output_type": "stream",
     "text": [
      "('VCC Commit:', None)\n"
     ]
    }
   ],
   "source": [
    "parameters = None\n",
    "VCC = getVCC(affected_files, parameters)\n",
    "print(\"VCC Commit:\", VCC[0])"
   ]
  },
  {
   "cell_type": "code",
   "execution_count": null,
   "metadata": {},
   "outputs": [],
   "source": []
  },
  {
   "cell_type": "code",
   "execution_count": null,
   "metadata": {},
   "outputs": [],
   "source": []
  },
  {
   "cell_type": "code",
   "execution_count": null,
   "metadata": {},
   "outputs": [],
   "source": []
  },
  {
   "cell_type": "code",
   "execution_count": null,
   "metadata": {},
   "outputs": [],
   "source": []
  }
 ],
 "metadata": {
  "kernelspec": {
   "display_name": "Python 2",
   "language": "python",
   "name": "python2"
  },
  "language_info": {
   "codemirror_mode": {
    "name": "ipython",
    "version": 2
   },
   "file_extension": ".py",
   "mimetype": "text/x-python",
   "name": "python",
   "nbconvert_exporter": "python",
   "pygments_lexer": "ipython2",
   "version": "2.7.15+"
  }
 },
 "nbformat": 4,
 "nbformat_minor": 2
}
